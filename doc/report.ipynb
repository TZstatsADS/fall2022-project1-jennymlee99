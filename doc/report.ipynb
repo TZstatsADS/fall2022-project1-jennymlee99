{
 "cells": [
  {
   "cell_type": "markdown",
   "id": "557c3d46",
   "metadata": {},
   "source": [
    "# title"
   ]
  },
  {
   "cell_type": "markdown",
   "id": "a3a326bc",
   "metadata": {},
   "source": [
    "As we all know, academical research is like standing upon the shoulders of giants, and keep experimenting and exploring. Scholars, including philosophers, they learn from each other, question each other and resolve unanswered problems.    \n",
    "Sometimes the influence is subtle, sometimes it's direct and far-reaching, which can be reflected in the quotes and references.    \n",
    "\n",
    "In this project, I tried to explore the quotes between the great philosophers and see what we can find out. Maybe philosophers from the same school like to quotes each other, maybe there are a few very influential philosophers that have been mentioned a lot in later generations, or maybe the more a philosopher is mentioned in an article, the more they share perspectives and ideas."
   ]
  },
  {
   "cell_type": "code",
   "execution_count": null,
   "id": "a396a03c",
   "metadata": {},
   "outputs": [],
   "source": []
  }
 ],
 "metadata": {
  "kernelspec": {
   "display_name": "Python 3 (ipykernel)",
   "language": "python",
   "name": "python3"
  },
  "language_info": {
   "codemirror_mode": {
    "name": "ipython",
    "version": 3
   },
   "file_extension": ".py",
   "mimetype": "text/x-python",
   "name": "python",
   "nbconvert_exporter": "python",
   "pygments_lexer": "ipython3",
   "version": "3.9.7"
  }
 },
 "nbformat": 4,
 "nbformat_minor": 5
}
